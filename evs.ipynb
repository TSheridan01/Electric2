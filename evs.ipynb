import csv
import pandas as pd

def read_data_from_file(name):
    data = []
    with open(name) as csv_file:
        csv_reader = csv.reader(csv_file, delimiter=',')

        # skip the first row
        next(csv_reader)
        for row in csv_reader:
            data.append(row)
    return data


def NY_write_features_to_file(name, data, zip_to_county):
    # writing to csv file
    with open(name, 'w', newline='', encoding='utf-8') as csvfile:
        row = ['DMV ID', 'DMV Snapshot', 'ZIP Code', 'State', 'Registration Valid Date', 'Registration Expiration Date', 'VIN Prefix', 'VIN Model Year', 'Vehicle Name', 'Technology', 'County']
        csvwriter = csv.writer(csvfile)
        csvwriter.writerow(row)
        for row in data:
            if float(row[2]) in zip_to_county:
                row.append(zip_to_county[float(row[2])])
            else:
                row.append('-')
            # creating a csv writer object
            csvwriter = csv.writer(csvfile)

            # writing the data rows
            csvwriter.writerow(row)
            
def MI_write_features_to_file(name, data, zip_to_county):
    # writing to csv file
    with open(name, 'w', newline='', encoding='utf-8') as csvfile:
        row = ['DMV ID', 'DMV Snapshot (Date)', 'Registration Valid Date', 'ZIP Code', 'VIN Prefix', 'Registration Expiration Date', 'VIN Model Year', 'Make', 'Model', 'Model Year', 'County']
        csvwriter = csv.writer(csvfile)
        csvwriter.writerow(row)
        for row in data:
            if float(row[3]) in zip_to_county:
                row.append(zip_to_county[float(row[3])])
            else:
                row.append('-')
            # creating a csv writer object
            csvwriter = csv.writer(csvfile)

            # writing the data rows
            csvwriter.writerow(row)
    


print('Reading Excel File! Please wait')
sheet = pd.read_excel('US Zips Michigan and NY.xlsx')
zip_to_county = sheet.set_index('zip').to_dict()['county_name']

print('Reading and processing ny_ev_registrations_public.csv! Please wait')
data = read_data_from_file('ny_ev_registrations_public.csv')
NY_write_features_to_file('new_ny_ev_registrations_public.csv', data, zip_to_county)

print('Reading and processing mi_ev_registrations_public.csv! Please wait')
data = read_data_from_file('mi_ev_registrations_public.csv')
MI_write_features_to_file('new_mi_ev_registrations_public.csv', data, zip_to_county)

print('Done! Data saved in new CSV files')


