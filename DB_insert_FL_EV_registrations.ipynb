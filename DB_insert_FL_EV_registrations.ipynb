{
 "cells": [
  {
   "cell_type": "code",
   "execution_count": 1,
   "id": "4d5fefb2",
   "metadata": {},
   "outputs": [],
   "source": [
    "# Import our dependencies\n",
    "import pandas as pd\n",
    "import numpy as np\n",
    "import config as creds\n",
    "import psycopg2\n",
    "from sqlalchemy import create_engine"
   ]
  },
  {
   "cell_type": "code",
   "execution_count": 2,
   "id": "41227047",
   "metadata": {},
   "outputs": [
    {
     "data": {
      "text/html": [
       "<div>\n",
       "<style scoped>\n",
       "    .dataframe tbody tr th:only-of-type {\n",
       "        vertical-align: middle;\n",
       "    }\n",
       "\n",
       "    .dataframe tbody tr th {\n",
       "        vertical-align: top;\n",
       "    }\n",
       "\n",
       "    .dataframe thead th {\n",
       "        text-align: right;\n",
       "    }\n",
       "</style>\n",
       "<table border=\"1\" class=\"dataframe\">\n",
       "  <thead>\n",
       "    <tr style=\"text-align: right;\">\n",
       "      <th></th>\n",
       "      <th>DMV ID</th>\n",
       "      <th>DMV Snapshot (Date)</th>\n",
       "      <th>County</th>\n",
       "      <th>Vehicle Name</th>\n",
       "      <th>Registration Valid Date</th>\n",
       "      <th>Registration Expiration Date</th>\n",
       "      <th>Technology</th>\n",
       "    </tr>\n",
       "  </thead>\n",
       "  <tbody>\n",
       "    <tr>\n",
       "      <th>0</th>\n",
       "      <td>1</td>\n",
       "      <td>Registration Data from FPL (6/30/2018)</td>\n",
       "      <td>Dade</td>\n",
       "      <td>Tesla Model X</td>\n",
       "      <td>6/30/2018</td>\n",
       "      <td>NaN</td>\n",
       "      <td>BEV</td>\n",
       "    </tr>\n",
       "    <tr>\n",
       "      <th>1</th>\n",
       "      <td>1</td>\n",
       "      <td>Registration Data from FPL (6/30/2018)</td>\n",
       "      <td>Dade</td>\n",
       "      <td>Tesla Model X</td>\n",
       "      <td>6/30/2018</td>\n",
       "      <td>NaN</td>\n",
       "      <td>BEV</td>\n",
       "    </tr>\n",
       "    <tr>\n",
       "      <th>2</th>\n",
       "      <td>1</td>\n",
       "      <td>Registration Data from FPL (6/30/2018)</td>\n",
       "      <td>Dade</td>\n",
       "      <td>Tesla Model X</td>\n",
       "      <td>6/30/2018</td>\n",
       "      <td>NaN</td>\n",
       "      <td>BEV</td>\n",
       "    </tr>\n",
       "    <tr>\n",
       "      <th>3</th>\n",
       "      <td>1</td>\n",
       "      <td>Registration Data from FPL (6/30/2018)</td>\n",
       "      <td>Dade</td>\n",
       "      <td>Tesla Model X</td>\n",
       "      <td>6/30/2018</td>\n",
       "      <td>NaN</td>\n",
       "      <td>BEV</td>\n",
       "    </tr>\n",
       "    <tr>\n",
       "      <th>4</th>\n",
       "      <td>1</td>\n",
       "      <td>Registration Data from FPL (6/30/2018)</td>\n",
       "      <td>Dade</td>\n",
       "      <td>Tesla Model X</td>\n",
       "      <td>6/30/2018</td>\n",
       "      <td>NaN</td>\n",
       "      <td>BEV</td>\n",
       "    </tr>\n",
       "  </tbody>\n",
       "</table>\n",
       "</div>"
      ],
      "text/plain": [
       "   DMV ID                     DMV Snapshot (Date) County   Vehicle Name  \\\n",
       "0       1  Registration Data from FPL (6/30/2018)   Dade  Tesla Model X   \n",
       "1       1  Registration Data from FPL (6/30/2018)   Dade  Tesla Model X   \n",
       "2       1  Registration Data from FPL (6/30/2018)   Dade  Tesla Model X   \n",
       "3       1  Registration Data from FPL (6/30/2018)   Dade  Tesla Model X   \n",
       "4       1  Registration Data from FPL (6/30/2018)   Dade  Tesla Model X   \n",
       "\n",
       "  Registration Valid Date  Registration Expiration Date Technology  \n",
       "0               6/30/2018                           NaN        BEV  \n",
       "1               6/30/2018                           NaN        BEV  \n",
       "2               6/30/2018                           NaN        BEV  \n",
       "3               6/30/2018                           NaN        BEV  \n",
       "4               6/30/2018                           NaN        BEV  "
      ]
     },
     "execution_count": 2,
     "metadata": {},
     "output_type": "execute_result"
    }
   ],
   "source": [
    "# Import our input dataset for FL registrations income\n",
    "FL_df = pd.read_csv('Resources/fl_ev_registrations_public.csv')\n",
    "FL_df.head()"
   ]
  },
  {
   "cell_type": "code",
   "execution_count": 13,
   "id": "f4402dd8",
   "metadata": {},
   "outputs": [
    {
     "data": {
      "text/html": [
       "<div>\n",
       "<style scoped>\n",
       "    .dataframe tbody tr th:only-of-type {\n",
       "        vertical-align: middle;\n",
       "    }\n",
       "\n",
       "    .dataframe tbody tr th {\n",
       "        vertical-align: top;\n",
       "    }\n",
       "\n",
       "    .dataframe thead th {\n",
       "        text-align: right;\n",
       "    }\n",
       "</style>\n",
       "<table border=\"1\" class=\"dataframe\">\n",
       "  <thead>\n",
       "    <tr style=\"text-align: right;\">\n",
       "      <th></th>\n",
       "      <th>County</th>\n",
       "      <th>Registration_Valid_Date</th>\n",
       "      <th>Vehicle_Name</th>\n",
       "    </tr>\n",
       "  </thead>\n",
       "  <tbody>\n",
       "    <tr>\n",
       "      <th>0</th>\n",
       "      <td>Dade</td>\n",
       "      <td>2018-06-30</td>\n",
       "      <td>Tesla Model X</td>\n",
       "    </tr>\n",
       "    <tr>\n",
       "      <th>1</th>\n",
       "      <td>Dade</td>\n",
       "      <td>2018-06-30</td>\n",
       "      <td>Tesla Model X</td>\n",
       "    </tr>\n",
       "    <tr>\n",
       "      <th>2</th>\n",
       "      <td>Dade</td>\n",
       "      <td>2018-06-30</td>\n",
       "      <td>Tesla Model X</td>\n",
       "    </tr>\n",
       "    <tr>\n",
       "      <th>3</th>\n",
       "      <td>Dade</td>\n",
       "      <td>2018-06-30</td>\n",
       "      <td>Tesla Model X</td>\n",
       "    </tr>\n",
       "    <tr>\n",
       "      <th>4</th>\n",
       "      <td>Dade</td>\n",
       "      <td>2018-06-30</td>\n",
       "      <td>Tesla Model X</td>\n",
       "    </tr>\n",
       "    <tr>\n",
       "      <th>...</th>\n",
       "      <td>...</td>\n",
       "      <td>...</td>\n",
       "      <td>...</td>\n",
       "    </tr>\n",
       "    <tr>\n",
       "      <th>353969</th>\n",
       "      <td>Dade</td>\n",
       "      <td>2021-07-19</td>\n",
       "      <td>Porsche Cayenne S E-Hybrid</td>\n",
       "    </tr>\n",
       "    <tr>\n",
       "      <th>353970</th>\n",
       "      <td>Seminole</td>\n",
       "      <td>2021-07-19</td>\n",
       "      <td>Porsche Cayenne S E-Hybrid</td>\n",
       "    </tr>\n",
       "    <tr>\n",
       "      <th>353971</th>\n",
       "      <td>Unknown</td>\n",
       "      <td>2021-07-19</td>\n",
       "      <td>Porsche Cayenne S E-Hybrid</td>\n",
       "    </tr>\n",
       "    <tr>\n",
       "      <th>353972</th>\n",
       "      <td>Broward</td>\n",
       "      <td>2021-07-19</td>\n",
       "      <td>Porsche Cayenne S E-Hybrid</td>\n",
       "    </tr>\n",
       "    <tr>\n",
       "      <th>353973</th>\n",
       "      <td>Lee</td>\n",
       "      <td>2021-07-19</td>\n",
       "      <td>Porsche Cayenne S E-Hybrid</td>\n",
       "    </tr>\n",
       "  </tbody>\n",
       "</table>\n",
       "<p>353974 rows × 3 columns</p>\n",
       "</div>"
      ],
      "text/plain": [
       "          County Registration_Valid_Date                Vehicle_Name\n",
       "0           Dade              2018-06-30               Tesla Model X\n",
       "1           Dade              2018-06-30               Tesla Model X\n",
       "2           Dade              2018-06-30               Tesla Model X\n",
       "3           Dade              2018-06-30               Tesla Model X\n",
       "4           Dade              2018-06-30               Tesla Model X\n",
       "...          ...                     ...                         ...\n",
       "353969      Dade              2021-07-19  Porsche Cayenne S E-Hybrid\n",
       "353970  Seminole              2021-07-19  Porsche Cayenne S E-Hybrid\n",
       "353971   Unknown              2021-07-19  Porsche Cayenne S E-Hybrid\n",
       "353972   Broward              2021-07-19  Porsche Cayenne S E-Hybrid\n",
       "353973       Lee              2021-07-19  Porsche Cayenne S E-Hybrid\n",
       "\n",
       "[353974 rows x 3 columns]"
      ]
     },
     "execution_count": 13,
     "metadata": {},
     "output_type": "execute_result"
    }
   ],
   "source": [
    "# keeping relevant columns\n",
    "FL_df = FL_df[['County',\"Registration Valid Date\",\"Vehicle Name\"]]\n",
    "FL_df.columns = ['County', 'Registration_Valid_Date', 'Vehicle_Name']\n",
    "FL_df"
   ]
  },
  {
   "cell_type": "code",
   "execution_count": 4,
   "id": "fb669c50",
   "metadata": {},
   "outputs": [],
   "source": [
    "FL_df[\"Registration Valid Date\"] = pd.to_datetime(FL_df[\"Registration Valid Date\"])"
   ]
  },
  {
   "cell_type": "code",
   "execution_count": 5,
   "id": "f53aa26f",
   "metadata": {},
   "outputs": [
    {
     "data": {
      "text/plain": [
       "County                             object\n",
       "Registration Valid Date    datetime64[ns]\n",
       "Vehicle Name                       object\n",
       "dtype: object"
      ]
     },
     "execution_count": 5,
     "metadata": {},
     "output_type": "execute_result"
    }
   ],
   "source": [
    "FL_df.dtypes"
   ]
  },
  {
   "cell_type": "code",
   "execution_count": 6,
   "id": "cd4f1f37",
   "metadata": {},
   "outputs": [],
   "source": [
    "db_string = f\"postgresql://{creds.PGUSER}:{creds.PGPASSWORD}@{creds.PGHOST}:5432/{creds.PGDATABASE}\"\n",
    "engine = create_engine(db_string)\n",
    "conn = engine.connect()"
   ]
  },
  {
   "cell_type": "code",
   "execution_count": 14,
   "id": "80decbef",
   "metadata": {},
   "outputs": [],
   "source": [
    "FL_df.to_sql(name='ev_registration', con=conn, if_exists='append')"
   ]
  },
  {
   "cell_type": "code",
   "execution_count": null,
   "id": "07f86433",
   "metadata": {},
   "outputs": [],
   "source": []
  }
 ],
 "metadata": {
  "kernelspec": {
   "display_name": "mlenv",
   "language": "python",
   "name": "mlenv"
  },
  "language_info": {
   "codemirror_mode": {
    "name": "ipython",
    "version": 3
   },
   "file_extension": ".py",
   "mimetype": "text/x-python",
   "name": "python",
   "nbconvert_exporter": "python",
   "pygments_lexer": "ipython3",
   "version": "3.7.15"
  }
 },
 "nbformat": 4,
 "nbformat_minor": 5
}
