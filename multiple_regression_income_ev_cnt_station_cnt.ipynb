{
 "cells": [
  {
   "cell_type": "code",
   "execution_count": 1,
   "id": "f321b29d",
   "metadata": {},
   "outputs": [],
   "source": [
    "import pandas as pd\n",
    "from pathlib import Path\n",
    "import matplotlib.pyplot as plt\n",
    "from sklearn.linear_model import LinearRegression\n",
    "from sklearn.preprocessing import StandardScaler"
   ]
  },
  {
   "cell_type": "code",
   "execution_count": 2,
   "id": "426de162",
   "metadata": {},
   "outputs": [
    {
     "data": {
      "text/html": [
       "<div>\n",
       "<style scoped>\n",
       "    .dataframe tbody tr th:only-of-type {\n",
       "        vertical-align: middle;\n",
       "    }\n",
       "\n",
       "    .dataframe tbody tr th {\n",
       "        vertical-align: top;\n",
       "    }\n",
       "\n",
       "    .dataframe thead th {\n",
       "        text-align: right;\n",
       "    }\n",
       "</style>\n",
       "<table border=\"1\" class=\"dataframe\">\n",
       "  <thead>\n",
       "    <tr style=\"text-align: right;\">\n",
       "      <th></th>\n",
       "      <th>statecode_of_county</th>\n",
       "      <th>county</th>\n",
       "      <th>income_yr_2021</th>\n",
       "      <th>income_yr_2020</th>\n",
       "      <th>income_yr_2019</th>\n",
       "      <th>vehicle_cnt</th>\n",
       "      <th>station_cnt</th>\n",
       "    </tr>\n",
       "  </thead>\n",
       "  <tbody>\n",
       "    <tr>\n",
       "      <th>0</th>\n",
       "      <td>CA</td>\n",
       "      <td>Alameda</td>\n",
       "      <td>164437681</td>\n",
       "      <td>149239559</td>\n",
       "      <td>135758980</td>\n",
       "      <td>192172</td>\n",
       "      <td>792</td>\n",
       "    </tr>\n",
       "    <tr>\n",
       "      <th>1</th>\n",
       "      <td>CA</td>\n",
       "      <td>Alpine</td>\n",
       "      <td>89826</td>\n",
       "      <td>90114</td>\n",
       "      <td>94986</td>\n",
       "      <td>38</td>\n",
       "      <td>5</td>\n",
       "    </tr>\n",
       "    <tr>\n",
       "      <th>2</th>\n",
       "      <td>CA</td>\n",
       "      <td>Amador</td>\n",
       "      <td>2052718</td>\n",
       "      <td>1937437</td>\n",
       "      <td>1768935</td>\n",
       "      <td>768</td>\n",
       "      <td>12</td>\n",
       "    </tr>\n",
       "    <tr>\n",
       "      <th>3</th>\n",
       "      <td>CA</td>\n",
       "      <td>Butte</td>\n",
       "      <td>11393205</td>\n",
       "      <td>10798585</td>\n",
       "      <td>9983194</td>\n",
       "      <td>3423</td>\n",
       "      <td>30</td>\n",
       "    </tr>\n",
       "    <tr>\n",
       "      <th>4</th>\n",
       "      <td>CA</td>\n",
       "      <td>Calaveras</td>\n",
       "      <td>2668137</td>\n",
       "      <td>2509072</td>\n",
       "      <td>2275336</td>\n",
       "      <td>999</td>\n",
       "      <td>5</td>\n",
       "    </tr>\n",
       "  </tbody>\n",
       "</table>\n",
       "</div>"
      ],
      "text/plain": [
       "  statecode_of_county     county  income_yr_2021  income_yr_2020  \\\n",
       "0                  CA    Alameda       164437681       149239559   \n",
       "1                  CA     Alpine           89826           90114   \n",
       "2                  CA     Amador         2052718         1937437   \n",
       "3                  CA      Butte        11393205        10798585   \n",
       "4                  CA  Calaveras         2668137         2509072   \n",
       "\n",
       "   income_yr_2019  vehicle_cnt  station_cnt  \n",
       "0       135758980       192172          792  \n",
       "1           94986           38            5  \n",
       "2         1768935          768           12  \n",
       "3         9983194         3423           30  \n",
       "4         2275336          999            5  "
      ]
     },
     "execution_count": 2,
     "metadata": {},
     "output_type": "execute_result"
    }
   ],
   "source": [
    "df = pd.read_csv(Path('Resources/counts_per_county.csv'))\n",
    "df.head()"
   ]
  },
  {
   "cell_type": "code",
   "execution_count": 3,
   "id": "0e814747",
   "metadata": {},
   "outputs": [
    {
     "data": {
      "text/html": [
       "<div>\n",
       "<style scoped>\n",
       "    .dataframe tbody tr th:only-of-type {\n",
       "        vertical-align: middle;\n",
       "    }\n",
       "\n",
       "    .dataframe tbody tr th {\n",
       "        vertical-align: top;\n",
       "    }\n",
       "\n",
       "    .dataframe thead th {\n",
       "        text-align: right;\n",
       "    }\n",
       "</style>\n",
       "<table border=\"1\" class=\"dataframe\">\n",
       "  <thead>\n",
       "    <tr style=\"text-align: right;\">\n",
       "      <th></th>\n",
       "      <th>income_yr_2021</th>\n",
       "      <th>vehicle_cnt</th>\n",
       "      <th>station_cnt</th>\n",
       "    </tr>\n",
       "  </thead>\n",
       "  <tbody>\n",
       "    <tr>\n",
       "      <th>0</th>\n",
       "      <td>164437681</td>\n",
       "      <td>192172</td>\n",
       "      <td>792</td>\n",
       "    </tr>\n",
       "    <tr>\n",
       "      <th>1</th>\n",
       "      <td>89826</td>\n",
       "      <td>38</td>\n",
       "      <td>5</td>\n",
       "    </tr>\n",
       "    <tr>\n",
       "      <th>2</th>\n",
       "      <td>2052718</td>\n",
       "      <td>768</td>\n",
       "      <td>12</td>\n",
       "    </tr>\n",
       "    <tr>\n",
       "      <th>3</th>\n",
       "      <td>11393205</td>\n",
       "      <td>3423</td>\n",
       "      <td>30</td>\n",
       "    </tr>\n",
       "    <tr>\n",
       "      <th>4</th>\n",
       "      <td>2668137</td>\n",
       "      <td>999</td>\n",
       "      <td>5</td>\n",
       "    </tr>\n",
       "    <tr>\n",
       "      <th>...</th>\n",
       "      <td>...</td>\n",
       "      <td>...</td>\n",
       "      <td>...</td>\n",
       "    </tr>\n",
       "    <tr>\n",
       "      <th>394</th>\n",
       "      <td>6530766</td>\n",
       "      <td>1919</td>\n",
       "      <td>6</td>\n",
       "    </tr>\n",
       "    <tr>\n",
       "      <th>395</th>\n",
       "      <td>763255</td>\n",
       "      <td>62</td>\n",
       "      <td>1</td>\n",
       "    </tr>\n",
       "    <tr>\n",
       "      <th>396</th>\n",
       "      <td>40466221</td>\n",
       "      <td>37390</td>\n",
       "      <td>65</td>\n",
       "    </tr>\n",
       "    <tr>\n",
       "      <th>397</th>\n",
       "      <td>2858211</td>\n",
       "      <td>942</td>\n",
       "      <td>1</td>\n",
       "    </tr>\n",
       "    <tr>\n",
       "      <th>398</th>\n",
       "      <td>3863290</td>\n",
       "      <td>1531</td>\n",
       "      <td>1</td>\n",
       "    </tr>\n",
       "  </tbody>\n",
       "</table>\n",
       "<p>399 rows × 3 columns</p>\n",
       "</div>"
      ],
      "text/plain": [
       "     income_yr_2021  vehicle_cnt  station_cnt\n",
       "0         164437681       192172          792\n",
       "1             89826           38            5\n",
       "2           2052718          768           12\n",
       "3          11393205         3423           30\n",
       "4           2668137          999            5\n",
       "..              ...          ...          ...\n",
       "394         6530766         1919            6\n",
       "395          763255           62            1\n",
       "396        40466221        37390           65\n",
       "397         2858211          942            1\n",
       "398         3863290         1531            1\n",
       "\n",
       "[399 rows x 3 columns]"
      ]
     },
     "execution_count": 3,
     "metadata": {},
     "output_type": "execute_result"
    }
   ],
   "source": [
    "df = df[['income_yr_2021','vehicle_cnt','station_cnt']]\n",
    "df"
   ]
  },
  {
   "cell_type": "code",
   "execution_count": 4,
   "id": "d4a76b6e",
   "metadata": {},
   "outputs": [
    {
     "data": {
      "text/html": [
       "<div>\n",
       "<style scoped>\n",
       "    .dataframe tbody tr th:only-of-type {\n",
       "        vertical-align: middle;\n",
       "    }\n",
       "\n",
       "    .dataframe tbody tr th {\n",
       "        vertical-align: top;\n",
       "    }\n",
       "\n",
       "    .dataframe thead th {\n",
       "        text-align: right;\n",
       "    }\n",
       "</style>\n",
       "<table border=\"1\" class=\"dataframe\">\n",
       "  <thead>\n",
       "    <tr style=\"text-align: right;\">\n",
       "      <th></th>\n",
       "      <th>income_yr_2021</th>\n",
       "      <th>vehicle_cnt</th>\n",
       "      <th>station_cnt</th>\n",
       "    </tr>\n",
       "  </thead>\n",
       "  <tbody>\n",
       "    <tr>\n",
       "      <th>0</th>\n",
       "      <td>2.603534</td>\n",
       "      <td>3.884620</td>\n",
       "      <td>3.062371</td>\n",
       "    </tr>\n",
       "    <tr>\n",
       "      <th>1</th>\n",
       "      <td>-0.394575</td>\n",
       "      <td>-0.283040</td>\n",
       "      <td>-0.246706</td>\n",
       "    </tr>\n",
       "    <tr>\n",
       "      <th>2</th>\n",
       "      <td>-0.358767</td>\n",
       "      <td>-0.267205</td>\n",
       "      <td>-0.217273</td>\n",
       "    </tr>\n",
       "    <tr>\n",
       "      <th>3</th>\n",
       "      <td>-0.188374</td>\n",
       "      <td>-0.209615</td>\n",
       "      <td>-0.141589</td>\n",
       "    </tr>\n",
       "    <tr>\n",
       "      <th>4</th>\n",
       "      <td>-0.347541</td>\n",
       "      <td>-0.262195</td>\n",
       "      <td>-0.246706</td>\n",
       "    </tr>\n",
       "  </tbody>\n",
       "</table>\n",
       "</div>"
      ],
      "text/plain": [
       "   income_yr_2021  vehicle_cnt  station_cnt\n",
       "0        2.603534     3.884620     3.062371\n",
       "1       -0.394575    -0.283040    -0.246706\n",
       "2       -0.358767    -0.267205    -0.217273\n",
       "3       -0.188374    -0.209615    -0.141589\n",
       "4       -0.347541    -0.262195    -0.246706"
      ]
     },
     "execution_count": 4,
     "metadata": {},
     "output_type": "execute_result"
    }
   ],
   "source": [
    "scaled = StandardScaler().fit_transform(df)\n",
    "#Transform scaled data to a dataframe\n",
    "scaled_df = pd.DataFrame(data=scaled, columns=['income_yr_2021', 'vehicle_cnt','station_cnt'])\n",
    "scaled_df.head()"
   ]
  },
  {
   "cell_type": "code",
   "execution_count": 5,
   "id": "cfb094b9",
   "metadata": {},
   "outputs": [],
   "source": [
    "#Extracting Independent and dependent Variable  \n",
    "x= scaled_df.iloc[:, :-1].values  \n",
    "y= scaled_df.iloc[:, 2].values  "
   ]
  },
  {
   "cell_type": "code",
   "execution_count": 6,
   "id": "c21f8b61",
   "metadata": {},
   "outputs": [],
   "source": [
    "# Splitting the dataset into training and test set.  \n",
    "from sklearn.model_selection import train_test_split  \n",
    "x_train, x_test, y_train, y_test= train_test_split(x, y, test_size= 0.6, random_state=0) "
   ]
  },
  {
   "cell_type": "code",
   "execution_count": 7,
   "id": "497dfe86",
   "metadata": {},
   "outputs": [
    {
     "data": {
      "text/plain": [
       "LinearRegression()"
      ]
     },
     "execution_count": 7,
     "metadata": {},
     "output_type": "execute_result"
    }
   ],
   "source": [
    "regressor= LinearRegression()  \n",
    "regressor.fit(x_train, y_train)  "
   ]
  },
  {
   "cell_type": "code",
   "execution_count": 8,
   "id": "7ee2e69c",
   "metadata": {},
   "outputs": [],
   "source": [
    "#Predicting the Test set result;  \n",
    "y_pred= regressor.predict(x_test)  "
   ]
  },
  {
   "cell_type": "code",
   "execution_count": 9,
   "id": "b9d26df7",
   "metadata": {},
   "outputs": [
    {
     "name": "stdout",
     "output_type": "stream",
     "text": [
      "Train Score:  0.8099154728875729\n",
      "Test Score:  0.8903367027807885\n"
     ]
    }
   ],
   "source": [
    "print('Train Score: ', regressor.score(x_train, y_train))  \n",
    "print('Test Score: ', regressor.score( x_test, y_test))  "
   ]
  },
  {
   "cell_type": "code",
   "execution_count": 10,
   "id": "a0e3a35e",
   "metadata": {},
   "outputs": [],
   "source": [
    " #function that returns Coefficient of Determination.\n",
    "import math\n",
    "def CoefficientDetermination(X, Y, n) :\n",
    "    sum_X = 0\n",
    "    sum_Y = 0\n",
    "    sum_XY = 0\n",
    "    squareSum_X = 0\n",
    "    squareSum_Y = 0\n",
    "     \n",
    "     \n",
    "    i = 0\n",
    "    while i < n :\n",
    "        # sum of elements of array X.\n",
    "        sum_X = sum_X + X[i]\n",
    "         \n",
    "        # sum of elements of array Y.\n",
    "        sum_Y = sum_Y + Y[i]\n",
    "         \n",
    "        # sum of X[i] * Y[i].\n",
    "        sum_XY = sum_XY + X[i] * Y[i]\n",
    "         \n",
    "        # sum of square of array elements.\n",
    "        squareSum_X = squareSum_X + X[i] * X[i]\n",
    "        squareSum_Y = squareSum_Y + Y[i] * Y[i]\n",
    "         \n",
    "        i = i + 1\n",
    "      \n",
    "    # use formula for calculating correlation\n",
    "    # coefficient.\n",
    "    corr = (float)(n * sum_XY - sum_X * sum_Y)/(float)(math.sqrt((n * squareSum_X -sum_X * sum_X)* (n * squareSum_Y - sum_Y * sum_Y)))\n",
    "    return corr * corr"
   ]
  },
  {
   "cell_type": "code",
   "execution_count": 11,
   "id": "717218bd",
   "metadata": {},
   "outputs": [
    {
     "name": "stdout",
     "output_type": "stream",
     "text": [
      "Coefficient of Determination: \n",
      "0.932407\n"
     ]
    }
   ],
   "source": [
    "# Find the size of array.\n",
    "n = len(y_test)\n",
    "\n",
    "print (\"Coefficient of Determination: \")\n",
    "# Function call to CoefficientDetermination.\n",
    "print ('{0:.6f}'.format(CoefficientDetermination(y_test, y_pred, n)))"
   ]
  },
  {
   "cell_type": "code",
   "execution_count": null,
   "id": "350a5527",
   "metadata": {},
   "outputs": [],
   "source": []
  }
 ],
 "metadata": {
  "kernelspec": {
   "display_name": "mlenv",
   "language": "python",
   "name": "mlenv"
  },
  "language_info": {
   "codemirror_mode": {
    "name": "ipython",
    "version": 3
   },
   "file_extension": ".py",
   "mimetype": "text/x-python",
   "name": "python",
   "nbconvert_exporter": "python",
   "pygments_lexer": "ipython3",
   "version": "3.7.15"
  }
 },
 "nbformat": 4,
 "nbformat_minor": 5
}
